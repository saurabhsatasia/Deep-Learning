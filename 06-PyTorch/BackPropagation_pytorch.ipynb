{
 "cells": [
  {
   "cell_type": "markdown",
   "id": "naval-tonight",
   "metadata": {},
   "source": [
    "## Back Propagation using pytorch\n",
    "y = x<sup>2</sup>"
   ]
  },
  {
   "cell_type": "code",
   "execution_count": 1,
   "id": "acquired-afghanistan",
   "metadata": {},
   "outputs": [
    {
     "name": "stdout",
     "output_type": "stream",
     "text": [
      "1.5.1\n",
      "True\n",
      "GeForce GTX 1050 Ti\n",
      "0\n"
     ]
    }
   ],
   "source": [
    "import torch\n",
    "import numpy as np\n",
    "\n",
    "print(torch.__version__)\n",
    "print(torch.cuda.is_available())\n",
    "print(torch.cuda.get_device_name())\n",
    "print(torch.cuda.current_device())"
   ]
  },
  {
   "cell_type": "markdown",
   "id": "august-syria",
   "metadata": {},
   "source": [
    "Back Propogation --- compute derivatives<br>\n",
    "y=x<sup>n</sup> ----> derivative ---- n * x<sup>n-1</sup><br>\n",
    "\n",
    "y = x<sup>2</sup><br>\n",
    "dy/dx = 2x"
   ]
  },
  {
   "cell_type": "code",
   "execution_count": 5,
   "id": "iraqi-sauce",
   "metadata": {},
   "outputs": [
    {
     "name": "stdout",
     "output_type": "stream",
     "text": [
      "tensor(4., requires_grad=True)\n",
      "tensor(16., grad_fn=<PowBackward0>)\n"
     ]
    }
   ],
   "source": [
    "# requires_grad=true then only bpp is possible and can keep a reminder that how x-values are changing\n",
    "x = torch.tensor(4.0, requires_grad=True)\n",
    "print(x)\n",
    "\n",
    "y = x**2\n",
    "print(y)"
   ]
  },
  {
   "cell_type": "code",
   "execution_count": 6,
   "id": "ahead-logging",
   "metadata": {},
   "outputs": [
    {
     "name": "stdout",
     "output_type": "stream",
     "text": [
      "tensor(8.)\n"
     ]
    }
   ],
   "source": [
    "### Back propagation y = 2*x\n",
    "y.backward()\n",
    "\n",
    "# after bpp, the derivative which I am getting value as 8\n",
    "print(x.grad)"
   ]
  },
  {
   "cell_type": "code",
   "execution_count": 11,
   "id": "valuable-remainder",
   "metadata": {},
   "outputs": [
    {
     "name": "stdout",
     "output_type": "stream",
     "text": [
      "tensor([[2., 3., 1.],\n",
      "        [4., 5., 3.],\n",
      "        [9., 8., 7.]], requires_grad=True)\n",
      "------------------------------------------------------------\n",
      "tensor([[ 12.,  36.,   2.],\n",
      "        [ 80., 150.,  36.],\n",
      "        [810., 576., 392.]], grad_fn=<AddBackward0>)\n",
      "------------------------------------------------------------\n",
      "tensor([[ 16.,  33.,   5.],\n",
      "        [ 56.,  85.,  33.],\n",
      "        [261., 208., 161.]])\n"
     ]
    }
   ],
   "source": [
    "torch_input = torch.tensor([[2,3,1], [4,5,3], [9,8,7]], dtype=torch.float, requires_grad=True)\n",
    "print(torch_input)\n",
    "print(\"-\"*60)\n",
    "\n",
    "# y=x^2 + x^3 --> derivative --> 3x^2 + 2x\n",
    "y = torch_input**3 + torch_input**2\n",
    "print(y)\n",
    "z = y.sum()\n",
    "z.backward()\n",
    "\n",
    "print(\"-\"*60)\n",
    "print(torch_input.grad)"
   ]
  },
  {
   "cell_type": "code",
   "execution_count": null,
   "id": "informal-duration",
   "metadata": {},
   "outputs": [],
   "source": []
  }
 ],
 "metadata": {
  "kernelspec": {
   "display_name": "Python 3",
   "language": "python",
   "name": "python3"
  },
  "language_info": {
   "codemirror_mode": {
    "name": "ipython",
    "version": 3
   },
   "file_extension": ".py",
   "mimetype": "text/x-python",
   "name": "python",
   "nbconvert_exporter": "python",
   "pygments_lexer": "ipython3",
   "version": "3.7.3"
  }
 },
 "nbformat": 4,
 "nbformat_minor": 5
}
