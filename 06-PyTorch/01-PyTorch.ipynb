{
 "cells": [
  {
   "cell_type": "code",
   "execution_count": 2,
   "id": "therapeutic-brain",
   "metadata": {},
   "outputs": [
    {
     "name": "stdout",
     "output_type": "stream",
     "text": [
      "1.5.1\n",
      "True\n",
      "GeForce GTX 1050 Ti\n",
      "0\n"
     ]
    }
   ],
   "source": [
    "import torch\n",
    "import numpy as np\n",
    "\n",
    "print(torch.__version__)\n",
    "print(torch.cuda.is_available())\n",
    "print(torch.cuda.get_device_name())\n",
    "print(torch.cuda.current_device())"
   ]
  },
  {
   "cell_type": "markdown",
   "id": "aging-scheduling",
   "metadata": {},
   "source": [
    "### Tensor Basics\n",
    "A tensor is a generalization of vectors and matrices and is easily available as a multidimensional array. It is a term and set od techniques known in the machine learning in the trainingand operation of deep learning models can be described in terms of tensors. In many cases are used as a replacement for NumPy to use the power of GPUs.\n",
    "\n",
    "Tensors are a type of data structure used in linear algebra, and like vectors and matrices, can calculate arithmetic operations with tensors."
   ]
  },
  {
   "cell_type": "markdown",
   "id": "european-static",
   "metadata": {},
   "source": [
    "#### Covert NumPy array to PyTorch Tensor"
   ]
  },
  {
   "cell_type": "code",
   "execution_count": 3,
   "id": "atomic-hepatitis",
   "metadata": {},
   "outputs": [
    {
     "name": "stdout",
     "output_type": "stream",
     "text": [
      "int32\n",
      "tensor([4, 6, 8, 7, 9, 5], dtype=torch.int32)\n",
      "tensor([4, 6], dtype=torch.int32)\n",
      "tensor([6, 8, 7], dtype=torch.int32)\n"
     ]
    }
   ],
   "source": [
    "lst = [4,6,8,7,9,5]\n",
    "arr = np.array(lst)\n",
    "print(arr.dtype)\n",
    "\n",
    "tensors=torch.from_numpy(arr)\n",
    "print(tensors)\n",
    "\n",
    "# indexing similar to numpy\n",
    "print(tensors[:2])\n",
    "print(tensors[1:4])"
   ]
  },
  {
   "cell_type": "code",
   "execution_count": 4,
   "id": "crude-webmaster",
   "metadata": {},
   "outputs": [
    {
     "name": "stdout",
     "output_type": "stream",
     "text": [
      "tensor([  4,   6,   8, 100,   9,   5], dtype=torch.int32)\n",
      "[  4   6   8 100   9   5]\n"
     ]
    }
   ],
   "source": [
    "# Disadvantage of from_numpy => The array and tensor uses the same memory location\n",
    "tensors[3] = 100\n",
    "print(tensors)\n",
    "print(arr)"
   ]
  },
  {
   "cell_type": "code",
   "execution_count": 9,
   "id": "north-writer",
   "metadata": {},
   "outputs": [
    {
     "name": "stdout",
     "output_type": "stream",
     "text": [
      "tensor([  4,   6,   8, 500,   9,   5], dtype=torch.int32)\n",
      "[  4   6   8 100   9   5]\n"
     ]
    }
   ],
   "source": [
    "# Prevent this by using torch.tensor\n",
    "tensor_arr = torch.tensor(arr)\n",
    "tensor_arr[3] = 500\n",
    "print(tensor_arr)\n",
    "print(arr)"
   ]
  },
  {
   "cell_type": "code",
   "execution_count": 10,
   "id": "settled-strand",
   "metadata": {},
   "outputs": [
    {
     "data": {
      "text/plain": [
       "tensor([[0., 0., 0., 0.],\n",
       "        [0., 0., 0., 0.]], dtype=torch.float64)"
      ]
     },
     "execution_count": 10,
     "metadata": {},
     "output_type": "execute_result"
    }
   ],
   "source": [
    "# zeros and ones\n",
    "torch.zeros(2,4, dtype=torch.float64)"
   ]
  },
  {
   "cell_type": "code",
   "execution_count": 11,
   "id": "bulgarian-cherry",
   "metadata": {},
   "outputs": [
    {
     "data": {
      "text/plain": [
       "tensor([[1, 1, 1, 1, 1, 1],\n",
       "        [1, 1, 1, 1, 1, 1]], dtype=torch.int32)"
      ]
     },
     "execution_count": 11,
     "metadata": {},
     "output_type": "execute_result"
    }
   ],
   "source": [
    "torch.ones(2,6, dtype=torch.int32)"
   ]
  },
  {
   "cell_type": "code",
   "execution_count": 19,
   "id": "limiting-amount",
   "metadata": {},
   "outputs": [
    {
     "name": "stdout",
     "output_type": "stream",
     "text": [
      "tensor([[ 0.,  1.,  2.],\n",
      "        [ 3.,  4.,  5.],\n",
      "        [ 6.,  7.,  8.],\n",
      "        [ 9., 10., 11.],\n",
      "        [12., 13., 14.]])\n",
      "--------------------------------------------------\n",
      "tensor([ 0.,  3.,  6.,  9., 12.])\n",
      "--------------------------------------------------\n",
      "tensor([[ 0.,  1.],\n",
      "        [ 3.,  4.],\n",
      "        [ 6.,  7.],\n",
      "        [ 9., 10.],\n",
      "        [12., 13.]])\n"
     ]
    }
   ],
   "source": [
    "# indexing in 2-dimensional\n",
    "tensor_arr = torch.tensor(np.arange(0,15).reshape(5,3), dtype=torch.float)\n",
    "print(tensor_arr)\n",
    "print(\"-\"*50)\n",
    "print(tensor_arr[:,0])\n",
    "print(\"-\"*50)\n",
    "\n",
    "print(tensor_arr[:,0:2])"
   ]
  },
  {
   "cell_type": "markdown",
   "id": "coordinated-kentucky",
   "metadata": {},
   "source": [
    "#### Arithmetic Operation"
   ]
  },
  {
   "cell_type": "code",
   "execution_count": 22,
   "id": "hollow-patch",
   "metadata": {},
   "outputs": [
    {
     "name": "stdout",
     "output_type": "stream",
     "text": [
      "tensor([15., 65., 93.])\n",
      "tensor([15., 65., 93.])\n"
     ]
    }
   ],
   "source": [
    "a = torch.tensor([5,9,4], dtype=torch.float)\n",
    "b = torch.tensor([10,56,89], dtype=torch.int)\n",
    "print(a+b)\n",
    "\n",
    "c = torch.add(a,b)\n",
    "print(c)"
   ]
  },
  {
   "cell_type": "code",
   "execution_count": 24,
   "id": "nervous-learning",
   "metadata": {},
   "outputs": [
    {
     "name": "stdout",
     "output_type": "stream",
     "text": [
      "tensor([15., 65., 93.])\n",
      "tensor(173.)\n"
     ]
    }
   ],
   "source": [
    "\n",
    "a = torch.tensor([5,9,4], dtype=torch.float)\n",
    "b = torch.tensor([10,56,89], dtype=torch.int)\n",
    "c = torch.zeros(3)\n",
    "\n",
    "c = torch.add(a,b, out=c)\n",
    "print(c)\n",
    "\n",
    "# adding elements of tensor\n",
    "print(torch.add(a,b).sum())"
   ]
  },
  {
   "cell_type": "code",
   "execution_count": 26,
   "id": "embedded-stewart",
   "metadata": {},
   "outputs": [
    {
     "name": "stdout",
     "output_type": "stream",
     "text": [
      "tensor([12., 20., 30.])\n",
      "tensor(62.)\n"
     ]
    }
   ],
   "source": [
    "# Dot product and Mult Operations\n",
    "\n",
    "x = torch.tensor([3,4,5], dtype=torch.float)\n",
    "y = torch.tensor([4,5,6], dtype=torch.float)\n",
    "\n",
    "# element-wise multiplication\n",
    "print(x.mul(y))\n",
    "\n",
    "# dot product \n",
    "print(x.dot(y)) ## 3*4 + 5*4 + 6*5 = 12+20+30 = 62"
   ]
  },
  {
   "cell_type": "code",
   "execution_count": 28,
   "id": "inner-payroll",
   "metadata": {},
   "outputs": [
    {
     "data": {
      "text/plain": [
       "tensor([[ 55.,  53.],\n",
       "        [169., 177.]])"
      ]
     },
     "execution_count": 28,
     "metadata": {},
     "output_type": "execute_result"
    }
   ],
   "source": [
    "# Matrix multiplication\n",
    "\n",
    "x = torch.tensor([[1,4,2], [5,9,8]], dtype=torch.float)\n",
    "y = torch.tensor([[5,7], [8,6], [9,11]], dtype=torch.float)\n",
    "\n",
    "torch.matmul(x,y)"
   ]
  },
  {
   "cell_type": "code",
   "execution_count": 29,
   "id": "extensive-cleaning",
   "metadata": {},
   "outputs": [
    {
     "data": {
      "text/plain": [
       "tensor([[ 55.,  53.],\n",
       "        [169., 177.]])"
      ]
     },
     "execution_count": 29,
     "metadata": {},
     "output_type": "execute_result"
    }
   ],
   "source": [
    "torch.mm(x,y) # mm shortform of matmul"
   ]
  },
  {
   "cell_type": "code",
   "execution_count": 30,
   "id": "monetary-acrobat",
   "metadata": {},
   "outputs": [
    {
     "data": {
      "text/plain": [
       "tensor([[ 55.,  53.],\n",
       "        [169., 177.]])"
      ]
     },
     "execution_count": 30,
     "metadata": {},
     "output_type": "execute_result"
    }
   ],
   "source": [
    "x@y"
   ]
  }
 ],
 "metadata": {
  "kernelspec": {
   "display_name": "Python 3",
   "language": "python",
   "name": "python3"
  },
  "language_info": {
   "codemirror_mode": {
    "name": "ipython",
    "version": 3
   },
   "file_extension": ".py",
   "mimetype": "text/x-python",
   "name": "python",
   "nbconvert_exporter": "python",
   "pygments_lexer": "ipython3",
   "version": "3.7.3"
  }
 },
 "nbformat": 4,
 "nbformat_minor": 5
}
